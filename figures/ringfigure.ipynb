{
 "cells": [
  {
   "cell_type": "code",
   "execution_count": null,
   "metadata": {},
   "outputs": [],
   "source": [
    "import numpy as np\n",
    "import pygsp as gsp\n",
    "import matplotlib.pyplot as plt\n",
    "from matplotlib.patches import Arc\n",
    "import os"
   ]
  },
  {
   "cell_type": "code",
   "execution_count": null,
   "metadata": {},
   "outputs": [],
   "source": [
    "pathfig = './'"
   ]
  },
  {
   "cell_type": "code",
   "execution_count": null,
   "metadata": {},
   "outputs": [],
   "source": [
    "G = gsp.graphs.ring.Ring(10)\n",
    "plt.figure(figsize=(3,3))\n",
    "ax=plt.gca()\n",
    "G.plot(edges=True,ax=ax,title='',vertex_color='r',edge_color='b');\n",
    "\n",
    "circle = plt.Circle((0,0),radius=1, color='g',fill=False, LineWidth=3)\n",
    "\n",
    "ax.add_artist(circle)\n",
    "\n",
    "angle=65\n",
    "\n",
    "line_1 = plt.Line2D([1,0], [0,0], linewidth=2, linestyle = \"-\", color=\"black\")\n",
    "line_2 = plt.Line2D([np.cos(angle/360*2*np.pi),0], [np.sin(angle/360*2*np.pi),0], linewidth=2, linestyle = \"--\", color=\"black\")\n",
    "\n",
    "ax.add_line(line_1)\n",
    "ax.add_line(line_2)\n",
    "\n",
    "angle_plot = Arc((0,0), 0.8, 0.8, 0, 0, angle, color='black', linewidth=2)\n",
    "ax.add_patch(angle_plot)\n",
    "\n",
    "ax.text(0.5*np.cos(angle/2/360*2*np.pi), 0.5*np.sin(angle/2/360*2*np.pi),  u\"\\u03B8\", fontsize=18) \n",
    "plt.savefig(os.path.join(pathfig, 'ring.pdf'))"
   ]
  },
  {
   "cell_type": "code",
   "execution_count": null,
   "metadata": {},
   "outputs": [],
   "source": []
  }
 ],
 "metadata": {
  "kernelspec": {
   "display_name": "Python 3",
   "language": "python",
   "name": "python3"
  },
  "language_info": {
   "codemirror_mode": {
    "name": "ipython",
    "version": 3
   },
   "file_extension": ".py",
   "mimetype": "text/x-python",
   "name": "python",
   "nbconvert_exporter": "python",
   "pygments_lexer": "ipython3",
   "version": "3.6.4"
  }
 },
 "nbformat": 4,
 "nbformat_minor": 2
}
